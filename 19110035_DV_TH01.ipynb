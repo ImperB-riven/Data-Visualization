{
  "cells": [
    {
      "cell_type": "markdown",
      "metadata": {
        "id": "view-in-github",
        "colab_type": "text"
      },
      "source": [
        "<a href=\"https://colab.research.google.com/github/ImperB-riven/Data-Visualization/blob/main/19110035_DV_TH01.ipynb\" target=\"_parent\"><img src=\"https://colab.research.google.com/assets/colab-badge.svg\" alt=\"Open In Colab\"/></a>"
      ]
    },
    {
      "cell_type": "markdown",
      "metadata": {
        "id": "et80ahTcE0ww"
      },
      "source": [
        "# Bài tập"
      ]
    },
    {
      "cell_type": "markdown",
      "metadata": {
        "id": "5bCDn_5RLXfm"
      },
      "source": [
        "1. Tìm hiểu ý nghĩa của các loại biểu đồ, đồ thị:\n",
        "Comparison, Composition, Relationship, Distribution.\n",
        "2. Thực hành: \n",
        "\n",
        "a) Load data ('COVID-19.csv') và trích lấy dữ liệu các cột sau: 'day','month','year','cases', 'deaths', 'countriesAndTerritories', 'continentExp' ( trích data này là data để thực hiện các yêu cầu dưới).\n",
        "\n",
        "b) Vẽ 2 đồ thị histogram của columns casses và deaths trên cùng một cửa sổ (figure). (subplot)\n",
        "\n",
        "c)Thống kê tổng số cases và deaths của từng quốc gia.\n",
        "\n",
        "d) Vẽ biểu đồ bar biểu diễn tổng case của 10 quốc gia có tổng cases lớn nhất.(Bằng 2 cách pandas, seaborn trên cùng figure).\n",
        "\n",
        "e) Tương tự d) nhưng biểu diễn tổng deaths của 10 quốc gia có tổng death lớn nhất.\n",
        "\n",
        "f) Thông kê tổng số (cases) và (deaths) của từng lục địa (continentExp).\n",
        "\n",
        "g) Vẽ biểu đồ bar để biểu diễn câu f) (mô tả : Trục ngang là các continentExp , mỗi continentExp có 2 cột biểu diễn cases và deaths) (Cả 2 cách pandas và seaborn trên cùng figure).\n",
        "\n",
        "h) Trích data có columns là Việt Nam.\n",
        "\n",
        "i) Thống kê số lượng cases và deaths theo từng tháng của Việt Nam bắt đầu từ 1/1/2020.\n",
        "\n",
        "j) Vẽ biểu đồ đường để biểu i) (đồ thị gồm 2 line) và chú thích điểm lớn nhất trên từng line. (Dùng pandas hoặc seaborn)."
      ]
    },
    {
      "cell_type": "markdown",
      "source": [
        "## Bài tập 1"
      ],
      "metadata": {
        "id": "iCqYMmANuWYR"
      }
    },
    {
      "cell_type": "markdown",
      "source": [
        "So sánh các loại biểu đồ:  \n",
        "* **Comparison**: là biểu đồ dùng để so sánh 2 hoặc nhiều sự vật hiện tượng của dữ liệu.  \n",
        "* **Composition**: là biểu đồ thể hiện dao động, thay đổi của dữ liệu phụ thuộc vào một yếu tố khác.\n",
        "* **Relationship**: là biểu đồ thể hiện mối quan hệ của 2 hoặc nhiều sự vật hiện tượng của dữ liệu.\n",
        "* **Distribution**: là biểu đồ dùng để biểu hiện sự phân phối của dữ liệu theo một yếu tố khác."
      ],
      "metadata": {
        "id": "kBoEK6ApuZCL"
      }
    },
    {
      "cell_type": "markdown",
      "source": [
        "## Bài tập 2"
      ],
      "metadata": {
        "id": "dlFRs0vDz1I6"
      }
    },
    {
      "cell_type": "code",
      "source": [
        "import numpy as np\n",
        "import pandas as pd\n",
        "import seaborn as sns\n",
        "import matplotlib.pyplot as plt"
      ],
      "metadata": {
        "id": "lqenWQqbu91j"
      },
      "execution_count": null,
      "outputs": []
    },
    {
      "cell_type": "code",
      "source": [
        "data = pd.read_csv('COVID-19.csv')\n",
        "data.head()"
      ],
      "metadata": {
        "id": "CpogBe0I0qXP",
        "colab": {
          "base_uri": "https://localhost:8080/",
          "height": 223
        },
        "outputId": "dde25895-8abe-4504-8406-c6f39ddfe3bd"
      },
      "execution_count": null,
      "outputs": [
        {
          "output_type": "execute_result",
          "data": {
            "text/html": [
              "<div>\n",
              "<style scoped>\n",
              "    .dataframe tbody tr th:only-of-type {\n",
              "        vertical-align: middle;\n",
              "    }\n",
              "\n",
              "    .dataframe tbody tr th {\n",
              "        vertical-align: top;\n",
              "    }\n",
              "\n",
              "    .dataframe thead th {\n",
              "        text-align: right;\n",
              "    }\n",
              "</style>\n",
              "<table border=\"1\" class=\"dataframe\">\n",
              "  <thead>\n",
              "    <tr style=\"text-align: right;\">\n",
              "      <th></th>\n",
              "      <th>dateRep</th>\n",
              "      <th>day</th>\n",
              "      <th>month</th>\n",
              "      <th>year</th>\n",
              "      <th>cases</th>\n",
              "      <th>deaths</th>\n",
              "      <th>countriesAndTerritories</th>\n",
              "      <th>geoId</th>\n",
              "      <th>countryterritoryCode</th>\n",
              "      <th>popData2019</th>\n",
              "      <th>continentExp</th>\n",
              "      <th>Cumulative_number_for_14_days_of_COVID-19_cases_per_100000</th>\n",
              "    </tr>\n",
              "  </thead>\n",
              "  <tbody>\n",
              "    <tr>\n",
              "      <th>0</th>\n",
              "      <td>20/10/2020</td>\n",
              "      <td>20</td>\n",
              "      <td>10</td>\n",
              "      <td>2020</td>\n",
              "      <td>87</td>\n",
              "      <td>5</td>\n",
              "      <td>Afghanistan</td>\n",
              "      <td>AF</td>\n",
              "      <td>AFG</td>\n",
              "      <td>38041757.0</td>\n",
              "      <td>Asia</td>\n",
              "      <td>2.105581</td>\n",
              "    </tr>\n",
              "    <tr>\n",
              "      <th>1</th>\n",
              "      <td>19/10/2020</td>\n",
              "      <td>19</td>\n",
              "      <td>10</td>\n",
              "      <td>2020</td>\n",
              "      <td>59</td>\n",
              "      <td>4</td>\n",
              "      <td>Afghanistan</td>\n",
              "      <td>AF</td>\n",
              "      <td>AFG</td>\n",
              "      <td>38041757.0</td>\n",
              "      <td>Asia</td>\n",
              "      <td>2.258045</td>\n",
              "    </tr>\n",
              "    <tr>\n",
              "      <th>2</th>\n",
              "      <td>18/10/2020</td>\n",
              "      <td>18</td>\n",
              "      <td>10</td>\n",
              "      <td>2020</td>\n",
              "      <td>68</td>\n",
              "      <td>3</td>\n",
              "      <td>Afghanistan</td>\n",
              "      <td>AF</td>\n",
              "      <td>AFG</td>\n",
              "      <td>38041757.0</td>\n",
              "      <td>Asia</td>\n",
              "      <td>2.218615</td>\n",
              "    </tr>\n",
              "    <tr>\n",
              "      <th>3</th>\n",
              "      <td>17/10/2020</td>\n",
              "      <td>17</td>\n",
              "      <td>10</td>\n",
              "      <td>2020</td>\n",
              "      <td>47</td>\n",
              "      <td>4</td>\n",
              "      <td>Afghanistan</td>\n",
              "      <td>AF</td>\n",
              "      <td>AFG</td>\n",
              "      <td>38041757.0</td>\n",
              "      <td>Asia</td>\n",
              "      <td>2.058265</td>\n",
              "    </tr>\n",
              "    <tr>\n",
              "      <th>4</th>\n",
              "      <td>16/10/2020</td>\n",
              "      <td>16</td>\n",
              "      <td>10</td>\n",
              "      <td>2020</td>\n",
              "      <td>0</td>\n",
              "      <td>0</td>\n",
              "      <td>Afghanistan</td>\n",
              "      <td>AF</td>\n",
              "      <td>AFG</td>\n",
              "      <td>38041757.0</td>\n",
              "      <td>Asia</td>\n",
              "      <td>1.947860</td>\n",
              "    </tr>\n",
              "  </tbody>\n",
              "</table>\n",
              "</div>"
            ],
            "text/plain": [
              "      dateRep  ...  Cumulative_number_for_14_days_of_COVID-19_cases_per_100000\n",
              "0  20/10/2020  ...                                           2.105581         \n",
              "1  19/10/2020  ...                                           2.258045         \n",
              "2  18/10/2020  ...                                           2.218615         \n",
              "3  17/10/2020  ...                                           2.058265         \n",
              "4  16/10/2020  ...                                           1.947860         \n",
              "\n",
              "[5 rows x 12 columns]"
            ]
          },
          "metadata": {},
          "execution_count": 27
        }
      ]
    },
    {
      "cell_type": "markdown",
      "source": [
        "### a)"
      ],
      "metadata": {
        "id": "1wF-17-s1JCM"
      }
    },
    {
      "cell_type": "code",
      "source": [
        "data['day']\n",
        "data['month']\n",
        "data['year']\n",
        "cases = data[data['geoId'] == 'AF']['cases']\n",
        "deaths = data[data['geoId'] == 'AF']['deaths']\n",
        "cases.shape"
      ],
      "metadata": {
        "id": "Ob0YZmCe1UJz",
        "colab": {
          "base_uri": "https://localhost:8080/"
        },
        "outputId": "c86af1a6-142d-45a1-955b-1ec54d2e6b88"
      },
      "execution_count": null,
      "outputs": [
        {
          "output_type": "execute_result",
          "data": {
            "text/plain": [
              "(285,)"
            ]
          },
          "metadata": {},
          "execution_count": 28
        }
      ]
    },
    {
      "cell_type": "markdown",
      "source": [
        "### b)"
      ],
      "metadata": {
        "id": "V1f0QZeQ3e7q"
      }
    },
    {
      "cell_type": "code",
      "source": [
        "cases"
      ],
      "metadata": {
        "colab": {
          "base_uri": "https://localhost:8080/"
        },
        "id": "1l63wbjY85U9",
        "outputId": "8e2ddbc5-5e1f-4e25-d2cd-27aa13fed264"
      },
      "execution_count": null,
      "outputs": [
        {
          "output_type": "execute_result",
          "data": {
            "text/plain": [
              "0      87\n",
              "1      59\n",
              "2      68\n",
              "3      47\n",
              "4       0\n",
              "       ..\n",
              "280     0\n",
              "281     0\n",
              "282     0\n",
              "283     0\n",
              "284     0\n",
              "Name: cases, Length: 285, dtype: int64"
            ]
          },
          "metadata": {},
          "execution_count": 29
        }
      ]
    },
    {
      "cell_type": "code",
      "source": [
        "cases.hist()\n",
        "deaths.hist()"
      ],
      "metadata": {
        "colab": {
          "base_uri": "https://localhost:8080/",
          "height": 72
        },
        "id": "ogx-6hwF3gWg",
        "outputId": "7f1e04e5-4681-42a6-afdf-af403821e23d"
      },
      "execution_count": null,
      "outputs": [
        {
          "output_type": "execute_result",
          "data": {
            "text/plain": [
              "<matplotlib.axes._subplots.AxesSubplot at 0x7fcc33e2af10>"
            ]
          },
          "metadata": {},
          "execution_count": 30
        },
        {
          "output_type": "display_data",
          "data": {
            "image/png": "[encoded data removed]",
            "text/plain": [
              "<Figure size 432x288 with 1 Axes>"
            ]
          },
          "metadata": {
            "needs_background": "light"
          }
        }
      ]
    },
    {
      "cell_type": "markdown",
      "source": [
        "### c)"
      ],
      "metadata": {
        "id": "5bM8Kp794OZk"
      }
    },
    {
      "cell_type": "code",
      "source": [
        "countries_data = data.groupby(['countriesAndTerritories'])['cases','deaths'].agg('sum')\n",
        "countries_data"
      ],
      "metadata": {
        "colab": {
          "base_uri": "https://localhost:8080/",
          "height": 510
        },
        "id": "gEHlnlcG4Qo4",
        "outputId": "391ec6e6-d6c9-444a-fafc-0dd841de89d4"
      },
      "execution_count": null,
      "outputs": [
        {
          "output_type": "stream",
          "name": "stderr",
          "text": [
            "/usr/local/lib/python3.7/dist-packages/ipykernel_launcher.py:1: FutureWarning: Indexing with multiple keys (implicitly converted to a tuple of keys) will be deprecated, use a list instead.\n",
            "  \"\"\"Entry point for launching an IPython kernel.\n"
          ]
        },
        {
          "output_type": "execute_result",
          "data": {
            "text/html": [
              "<div>\n",
              "<style scoped>\n",
              "    .dataframe tbody tr th:only-of-type {\n",
              "        vertical-align: middle;\n",
              "    }\n",
              "\n",
              "    .dataframe tbody tr th {\n",
              "        vertical-align: top;\n",
              "    }\n",
              "\n",
              "    .dataframe thead th {\n",
              "        text-align: right;\n",
              "    }\n",
              "</style>\n",
              "<table border=\"1\" class=\"dataframe\">\n",
              "  <thead>\n",
              "    <tr style=\"text-align: right;\">\n",
              "      <th></th>\n",
              "      <th>cases</th>\n",
              "      <th>deaths</th>\n",
              "    </tr>\n",
              "    <tr>\n",
              "      <th>countriesAndTerritories</th>\n",
              "      <th></th>\n",
              "      <th></th>\n",
              "    </tr>\n",
              "  </thead>\n",
              "  <tbody>\n",
              "    <tr>\n",
              "      <th>Afghanistan</th>\n",
              "      <td>40287</td>\n",
              "      <td>1497</td>\n",
              "    </tr>\n",
              "    <tr>\n",
              "      <th>Albania</th>\n",
              "      <td>17350</td>\n",
              "      <td>454</td>\n",
              "    </tr>\n",
              "    <tr>\n",
              "      <th>Algeria</th>\n",
              "      <td>54616</td>\n",
              "      <td>1865</td>\n",
              "    </tr>\n",
              "    <tr>\n",
              "      <th>Andorra</th>\n",
              "      <td>3623</td>\n",
              "      <td>62</td>\n",
              "    </tr>\n",
              "    <tr>\n",
              "      <th>Angola</th>\n",
              "      <td>7622</td>\n",
              "      <td>247</td>\n",
              "    </tr>\n",
              "    <tr>\n",
              "      <th>...</th>\n",
              "      <td>...</td>\n",
              "      <td>...</td>\n",
              "    </tr>\n",
              "    <tr>\n",
              "      <th>Vietnam</th>\n",
              "      <td>1140</td>\n",
              "      <td>35</td>\n",
              "    </tr>\n",
              "    <tr>\n",
              "      <th>Western_Sahara</th>\n",
              "      <td>766</td>\n",
              "      <td>1</td>\n",
              "    </tr>\n",
              "    <tr>\n",
              "      <th>Yemen</th>\n",
              "      <td>2060</td>\n",
              "      <td>599</td>\n",
              "    </tr>\n",
              "    <tr>\n",
              "      <th>Zambia</th>\n",
              "      <td>15897</td>\n",
              "      <td>346</td>\n",
              "    </tr>\n",
              "    <tr>\n",
              "      <th>Zimbabwe</th>\n",
              "      <td>8159</td>\n",
              "      <td>232</td>\n",
              "    </tr>\n",
              "  </tbody>\n",
              "</table>\n",
              "<p>211 rows × 2 columns</p>\n",
              "</div>"
            ],
            "text/plain": [
              "                         cases  deaths\n",
              "countriesAndTerritories               \n",
              "Afghanistan              40287    1497\n",
              "Albania                  17350     454\n",
              "Algeria                  54616    1865\n",
              "Andorra                   3623      62\n",
              "Angola                    7622     247\n",
              "...                        ...     ...\n",
              "Vietnam                   1140      35\n",
              "Western_Sahara             766       1\n",
              "Yemen                     2060     599\n",
              "Zambia                   15897     346\n",
              "Zimbabwe                  8159     232\n",
              "\n",
              "[211 rows x 2 columns]"
            ]
          },
          "metadata": {},
          "execution_count": 31
        }
      ]
    },
    {
      "cell_type": "markdown",
      "source": [
        "### d)"
      ],
      "metadata": {
        "id": "F-rCN3gGF3Tf"
      }
    },
    {
      "cell_type": "code",
      "source": [
        "top10_cases = countries_data.nlargest(10, ['cases'])\n",
        "top10_cases.plot(kind = 'bar')"
      ],
      "metadata": {
        "colab": {
          "base_uri": "https://localhost:8080/",
          "height": 428
        },
        "id": "X75cIMkLF4gO",
        "outputId": "4886bcee-2e22-481b-b060-ccbd5226cbea"
      },
      "execution_count": null,
      "outputs": [
        {
          "output_type": "execute_result",
          "data": {
            "text/plain": [
              "<matplotlib.axes._subplots.AxesSubplot at 0x7fcc33d49e90>"
            ]
          },
          "metadata": {},
          "execution_count": 32
        },
        {
          "output_type": "display_data",
          "data": {
            "image/png": "[encoded data removed]",
            "text/plain": [
              "<Figure size 432x288 with 1 Axes>"
            ]
          },
          "metadata": {
            "needs_background": "light"
          }
        }
      ]
    },
    {
      "cell_type": "code",
      "source": [
        "top10_cases"
      ],
      "metadata": {
        "colab": {
          "base_uri": "https://localhost:8080/",
          "height": 394
        },
        "id": "B5B37_E-ISm4",
        "outputId": "806876e0-26db-4a3f-d7d1-11c2d2762251"
      },
      "execution_count": null,
      "outputs": [
        {
          "output_type": "execute_result",
          "data": {
            "text/html": [
              "<div>\n",
              "<style scoped>\n",
              "    .dataframe tbody tr th:only-of-type {\n",
              "        vertical-align: middle;\n",
              "    }\n",
              "\n",
              "    .dataframe tbody tr th {\n",
              "        vertical-align: top;\n",
              "    }\n",
              "\n",
              "    .dataframe thead th {\n",
              "        text-align: right;\n",
              "    }\n",
              "</style>\n",
              "<table border=\"1\" class=\"dataframe\">\n",
              "  <thead>\n",
              "    <tr style=\"text-align: right;\">\n",
              "      <th></th>\n",
              "      <th>cases</th>\n",
              "      <th>deaths</th>\n",
              "    </tr>\n",
              "    <tr>\n",
              "      <th>countriesAndTerritories</th>\n",
              "      <th></th>\n",
              "      <th></th>\n",
              "    </tr>\n",
              "  </thead>\n",
              "  <tbody>\n",
              "    <tr>\n",
              "      <th>United_States_of_America</th>\n",
              "      <td>8214755</td>\n",
              "      <td>220133</td>\n",
              "    </tr>\n",
              "    <tr>\n",
              "      <th>India</th>\n",
              "      <td>7597063</td>\n",
              "      <td>115197</td>\n",
              "    </tr>\n",
              "    <tr>\n",
              "      <th>Brazil</th>\n",
              "      <td>5250727</td>\n",
              "      <td>154176</td>\n",
              "    </tr>\n",
              "    <tr>\n",
              "      <th>Russia</th>\n",
              "      <td>1415316</td>\n",
              "      <td>24366</td>\n",
              "    </tr>\n",
              "    <tr>\n",
              "      <th>Argentina</th>\n",
              "      <td>1002649</td>\n",
              "      <td>26716</td>\n",
              "    </tr>\n",
              "    <tr>\n",
              "      <th>Spain</th>\n",
              "      <td>974449</td>\n",
              "      <td>33992</td>\n",
              "    </tr>\n",
              "    <tr>\n",
              "      <th>Colombia</th>\n",
              "      <td>965883</td>\n",
              "      <td>29102</td>\n",
              "    </tr>\n",
              "    <tr>\n",
              "      <th>France</th>\n",
              "      <td>910277</td>\n",
              "      <td>33623</td>\n",
              "    </tr>\n",
              "    <tr>\n",
              "      <th>Peru</th>\n",
              "      <td>870876</td>\n",
              "      <td>33820</td>\n",
              "    </tr>\n",
              "    <tr>\n",
              "      <th>Mexico</th>\n",
              "      <td>854926</td>\n",
              "      <td>86338</td>\n",
              "    </tr>\n",
              "  </tbody>\n",
              "</table>\n",
              "</div>"
            ],
            "text/plain": [
              "                            cases  deaths\n",
              "countriesAndTerritories                  \n",
              "United_States_of_America  8214755  220133\n",
              "India                     7597063  115197\n",
              "Brazil                    5250727  154176\n",
              "Russia                    1415316   24366\n",
              "Argentina                 1002649   26716\n",
              "Spain                      974449   33992\n",
              "Colombia                   965883   29102\n",
              "France                     910277   33623\n",
              "Peru                       870876   33820\n",
              "Mexico                     854926   86338"
            ]
          },
          "metadata": {},
          "execution_count": 33
        }
      ]
    },
    {
      "cell_type": "code",
      "source": [
        "sns.barplot(x = top10_cases.index, y='cases', data = top10_cases)"
      ],
      "metadata": {
        "colab": {
          "base_uri": "https://localhost:8080/",
          "height": 308
        },
        "id": "uXQcRQAuHdXc",
        "outputId": "e91e9259-9782-402d-8e44-9a32a4a4267e"
      },
      "execution_count": null,
      "outputs": [
        {
          "output_type": "execute_result",
          "data": {
            "text/plain": [
              "<matplotlib.axes._subplots.AxesSubplot at 0x7fcc33c8f090>"
            ]
          },
          "metadata": {},
          "execution_count": 34
        },
        {
          "output_type": "display_data",
          "data": {
            "image/png": "[encoded data removed]",
            "text/plain": [
              "<Figure size 432x288 with 1 Axes>"
            ]
          },
          "metadata": {
            "needs_background": "light"
          }
        }
      ]
    },
    {
      "cell_type": "markdown",
      "source": [
        "### e)"
      ],
      "metadata": {
        "id": "CdjgmTXHFd6X"
      }
    },
    {
      "cell_type": "code",
      "source": [
        "countries_data.nlargest(10, ['deaths'])"
      ],
      "metadata": {
        "colab": {
          "base_uri": "https://localhost:8080/",
          "height": 394
        },
        "id": "LWEo4DDIFe9z",
        "outputId": "3aedf11e-aa2a-436d-fdae-eefc6d9197aa"
      },
      "execution_count": null,
      "outputs": [
        {
          "output_type": "execute_result",
          "data": {
            "text/html": [
              "<div>\n",
              "<style scoped>\n",
              "    .dataframe tbody tr th:only-of-type {\n",
              "        vertical-align: middle;\n",
              "    }\n",
              "\n",
              "    .dataframe tbody tr th {\n",
              "        vertical-align: top;\n",
              "    }\n",
              "\n",
              "    .dataframe thead th {\n",
              "        text-align: right;\n",
              "    }\n",
              "</style>\n",
              "<table border=\"1\" class=\"dataframe\">\n",
              "  <thead>\n",
              "    <tr style=\"text-align: right;\">\n",
              "      <th></th>\n",
              "      <th>cases</th>\n",
              "      <th>deaths</th>\n",
              "    </tr>\n",
              "    <tr>\n",
              "      <th>countriesAndTerritories</th>\n",
              "      <th></th>\n",
              "      <th></th>\n",
              "    </tr>\n",
              "  </thead>\n",
              "  <tbody>\n",
              "    <tr>\n",
              "      <th>United_States_of_America</th>\n",
              "      <td>8214755</td>\n",
              "      <td>220133</td>\n",
              "    </tr>\n",
              "    <tr>\n",
              "      <th>Brazil</th>\n",
              "      <td>5250727</td>\n",
              "      <td>154176</td>\n",
              "    </tr>\n",
              "    <tr>\n",
              "      <th>India</th>\n",
              "      <td>7597063</td>\n",
              "      <td>115197</td>\n",
              "    </tr>\n",
              "    <tr>\n",
              "      <th>Mexico</th>\n",
              "      <td>854926</td>\n",
              "      <td>86338</td>\n",
              "    </tr>\n",
              "    <tr>\n",
              "      <th>United_Kingdom</th>\n",
              "      <td>741212</td>\n",
              "      <td>43726</td>\n",
              "    </tr>\n",
              "    <tr>\n",
              "      <th>Italy</th>\n",
              "      <td>423578</td>\n",
              "      <td>36616</td>\n",
              "    </tr>\n",
              "    <tr>\n",
              "      <th>Spain</th>\n",
              "      <td>974449</td>\n",
              "      <td>33992</td>\n",
              "    </tr>\n",
              "    <tr>\n",
              "      <th>Peru</th>\n",
              "      <td>870876</td>\n",
              "      <td>33820</td>\n",
              "    </tr>\n",
              "    <tr>\n",
              "      <th>France</th>\n",
              "      <td>910277</td>\n",
              "      <td>33623</td>\n",
              "    </tr>\n",
              "    <tr>\n",
              "      <th>Iran</th>\n",
              "      <td>534631</td>\n",
              "      <td>30712</td>\n",
              "    </tr>\n",
              "  </tbody>\n",
              "</table>\n",
              "</div>"
            ],
            "text/plain": [
              "                            cases  deaths\n",
              "countriesAndTerritories                  \n",
              "United_States_of_America  8214755  220133\n",
              "Brazil                    5250727  154176\n",
              "India                     7597063  115197\n",
              "Mexico                     854926   86338\n",
              "United_Kingdom             741212   43726\n",
              "Italy                      423578   36616\n",
              "Spain                      974449   33992\n",
              "Peru                       870876   33820\n",
              "France                     910277   33623\n",
              "Iran                       534631   30712"
            ]
          },
          "metadata": {},
          "execution_count": 35
        }
      ]
    },
    {
      "cell_type": "markdown",
      "source": [
        "### f)"
      ],
      "metadata": {
        "id": "mvDBSrFb4RMo"
      }
    },
    {
      "cell_type": "code",
      "source": [
        "continent_data = data.groupby(['continentExp'])['cases', 'deaths'].agg('sum')\n",
        "continent_data"
      ],
      "metadata": {
        "colab": {
          "base_uri": "https://localhost:8080/",
          "height": 323
        },
        "id": "6fI6-Wuu4S17",
        "outputId": "c30f1c13-f45b-4a82-c93d-8b40aa1327ff"
      },
      "execution_count": null,
      "outputs": [
        {
          "output_type": "stream",
          "name": "stderr",
          "text": [
            "/usr/local/lib/python3.7/dist-packages/ipykernel_launcher.py:1: FutureWarning: Indexing with multiple keys (implicitly converted to a tuple of keys) will be deprecated, use a list instead.\n",
            "  \"\"\"Entry point for launching an IPython kernel.\n"
          ]
        },
        {
          "output_type": "execute_result",
          "data": {
            "text/html": [
              "<div>\n",
              "<style scoped>\n",
              "    .dataframe tbody tr th:only-of-type {\n",
              "        vertical-align: middle;\n",
              "    }\n",
              "\n",
              "    .dataframe tbody tr th {\n",
              "        vertical-align: top;\n",
              "    }\n",
              "\n",
              "    .dataframe thead th {\n",
              "        text-align: right;\n",
              "    }\n",
              "</style>\n",
              "<table border=\"1\" class=\"dataframe\">\n",
              "  <thead>\n",
              "    <tr style=\"text-align: right;\">\n",
              "      <th></th>\n",
              "      <th>cases</th>\n",
              "      <th>deaths</th>\n",
              "    </tr>\n",
              "    <tr>\n",
              "      <th>continentExp</th>\n",
              "      <th></th>\n",
              "      <th></th>\n",
              "    </tr>\n",
              "  </thead>\n",
              "  <tbody>\n",
              "    <tr>\n",
              "      <th>Africa</th>\n",
              "      <td>1656480</td>\n",
              "      <td>39931</td>\n",
              "    </tr>\n",
              "    <tr>\n",
              "      <th>America</th>\n",
              "      <td>18977833</td>\n",
              "      <td>611701</td>\n",
              "    </tr>\n",
              "    <tr>\n",
              "      <th>Asia</th>\n",
              "      <td>12516197</td>\n",
              "      <td>224029</td>\n",
              "    </tr>\n",
              "    <tr>\n",
              "      <th>Europe</th>\n",
              "      <td>7284085</td>\n",
              "      <td>242594</td>\n",
              "    </tr>\n",
              "    <tr>\n",
              "      <th>Oceania</th>\n",
              "      <td>37214</td>\n",
              "      <td>1021</td>\n",
              "    </tr>\n",
              "    <tr>\n",
              "      <th>Other</th>\n",
              "      <td>696</td>\n",
              "      <td>7</td>\n",
              "    </tr>\n",
              "  </tbody>\n",
              "</table>\n",
              "</div>"
            ],
            "text/plain": [
              "                 cases  deaths\n",
              "continentExp                  \n",
              "Africa         1656480   39931\n",
              "America       18977833  611701\n",
              "Asia          12516197  224029\n",
              "Europe         7284085  242594\n",
              "Oceania          37214    1021\n",
              "Other              696       7"
            ]
          },
          "metadata": {},
          "execution_count": 36
        }
      ]
    },
    {
      "cell_type": "markdown",
      "source": [
        "### g)"
      ],
      "metadata": {
        "id": "WseZhH-zCfCV"
      }
    },
    {
      "cell_type": "code",
      "source": [
        "continent_data.plot(kind='bar')"
      ],
      "metadata": {
        "colab": {
          "base_uri": "https://localhost:8080/",
          "height": 339
        },
        "id": "RwWzlJNnCgYD",
        "outputId": "f17b067d-5f87-474f-a2f2-c579f3c70e9d"
      },
      "execution_count": null,
      "outputs": [
        {
          "output_type": "execute_result",
          "data": {
            "text/plain": [
              "<matplotlib.axes._subplots.AxesSubplot at 0x7fcc33bc5850>"
            ]
          },
          "metadata": {},
          "execution_count": 37
        },
        {
          "output_type": "display_data",
          "data": {
            "image/png": "[encoded data removed]",
            "text/plain": [
              "<Figure size 432x288 with 1 Axes>"
            ]
          },
          "metadata": {
            "needs_background": "light"
          }
        }
      ]
    },
    {
      "cell_type": "markdown",
      "source": [
        "### h)"
      ],
      "metadata": {
        "id": "unkglqZCBmsQ"
      }
    },
    {
      "cell_type": "code",
      "source": [
        "vietnam_data = data[data['countriesAndTerritories'] == 'Vietnam']\n",
        "vietnam_data"
      ],
      "metadata": {
        "colab": {
          "base_uri": "https://localhost:8080/",
          "height": 441
        },
        "id": "w8xzg6mtBxZG",
        "outputId": "c9a219b1-7b0b-4c2b-b4f1-a92719526618"
      },
      "execution_count": null,
      "outputs": [
        {
          "output_type": "execute_result",
          "data": {
            "text/html": [
              "<div>\n",
              "<style scoped>\n",
              "    .dataframe tbody tr th:only-of-type {\n",
              "        vertical-align: middle;\n",
              "    }\n",
              "\n",
              "    .dataframe tbody tr th {\n",
              "        vertical-align: top;\n",
              "    }\n",
              "\n",
              "    .dataframe thead th {\n",
              "        text-align: right;\n",
              "    }\n",
              "</style>\n",
              "<table border=\"1\" class=\"dataframe\">\n",
              "  <thead>\n",
              "    <tr style=\"text-align: right;\">\n",
              "      <th></th>\n",
              "      <th>dateRep</th>\n",
              "      <th>day</th>\n",
              "      <th>month</th>\n",
              "      <th>year</th>\n",
              "      <th>cases</th>\n",
              "      <th>deaths</th>\n",
              "      <th>countriesAndTerritories</th>\n",
              "      <th>geoId</th>\n",
              "      <th>countryterritoryCode</th>\n",
              "      <th>popData2019</th>\n",
              "      <th>continentExp</th>\n",
              "      <th>Cumulative_number_for_14_days_of_COVID-19_cases_per_100000</th>\n",
              "    </tr>\n",
              "  </thead>\n",
              "  <tbody>\n",
              "    <tr>\n",
              "      <th>49109</th>\n",
              "      <td>20/10/2020</td>\n",
              "      <td>20</td>\n",
              "      <td>10</td>\n",
              "      <td>2020</td>\n",
              "      <td>6</td>\n",
              "      <td>0</td>\n",
              "      <td>Vietnam</td>\n",
              "      <td>VN</td>\n",
              "      <td>VNM</td>\n",
              "      <td>96462108.0</td>\n",
              "      <td>Asia</td>\n",
              "      <td>0.044577</td>\n",
              "    </tr>\n",
              "    <tr>\n",
              "      <th>49110</th>\n",
              "      <td>19/10/2020</td>\n",
              "      <td>19</td>\n",
              "      <td>10</td>\n",
              "      <td>2020</td>\n",
              "      <td>8</td>\n",
              "      <td>0</td>\n",
              "      <td>Vietnam</td>\n",
              "      <td>VN</td>\n",
              "      <td>VNM</td>\n",
              "      <td>96462108.0</td>\n",
              "      <td>Asia</td>\n",
              "      <td>0.039394</td>\n",
              "    </tr>\n",
              "    <tr>\n",
              "      <th>49111</th>\n",
              "      <td>18/10/2020</td>\n",
              "      <td>18</td>\n",
              "      <td>10</td>\n",
              "      <td>2020</td>\n",
              "      <td>2</td>\n",
              "      <td>0</td>\n",
              "      <td>Vietnam</td>\n",
              "      <td>VN</td>\n",
              "      <td>VNM</td>\n",
              "      <td>96462108.0</td>\n",
              "      <td>Asia</td>\n",
              "      <td>0.031100</td>\n",
              "    </tr>\n",
              "    <tr>\n",
              "      <th>49112</th>\n",
              "      <td>17/10/2020</td>\n",
              "      <td>17</td>\n",
              "      <td>10</td>\n",
              "      <td>2020</td>\n",
              "      <td>0</td>\n",
              "      <td>0</td>\n",
              "      <td>Vietnam</td>\n",
              "      <td>VN</td>\n",
              "      <td>VNM</td>\n",
              "      <td>96462108.0</td>\n",
              "      <td>Asia</td>\n",
              "      <td>0.029027</td>\n",
              "    </tr>\n",
              "    <tr>\n",
              "      <th>49113</th>\n",
              "      <td>16/10/2020</td>\n",
              "      <td>16</td>\n",
              "      <td>10</td>\n",
              "      <td>2020</td>\n",
              "      <td>2</td>\n",
              "      <td>0</td>\n",
              "      <td>Vietnam</td>\n",
              "      <td>VN</td>\n",
              "      <td>VNM</td>\n",
              "      <td>96462108.0</td>\n",
              "      <td>Asia</td>\n",
              "      <td>0.030064</td>\n",
              "    </tr>\n",
              "    <tr>\n",
              "      <th>...</th>\n",
              "      <td>...</td>\n",
              "      <td>...</td>\n",
              "      <td>...</td>\n",
              "      <td>...</td>\n",
              "      <td>...</td>\n",
              "      <td>...</td>\n",
              "      <td>...</td>\n",
              "      <td>...</td>\n",
              "      <td>...</td>\n",
              "      <td>...</td>\n",
              "      <td>...</td>\n",
              "      <td>...</td>\n",
              "    </tr>\n",
              "    <tr>\n",
              "      <th>49395</th>\n",
              "      <td>04/01/2020</td>\n",
              "      <td>4</td>\n",
              "      <td>1</td>\n",
              "      <td>2020</td>\n",
              "      <td>0</td>\n",
              "      <td>0</td>\n",
              "      <td>Vietnam</td>\n",
              "      <td>VN</td>\n",
              "      <td>VNM</td>\n",
              "      <td>96462108.0</td>\n",
              "      <td>Asia</td>\n",
              "      <td>NaN</td>\n",
              "    </tr>\n",
              "    <tr>\n",
              "      <th>49396</th>\n",
              "      <td>03/01/2020</td>\n",
              "      <td>3</td>\n",
              "      <td>1</td>\n",
              "      <td>2020</td>\n",
              "      <td>0</td>\n",
              "      <td>0</td>\n",
              "      <td>Vietnam</td>\n",
              "      <td>VN</td>\n",
              "      <td>VNM</td>\n",
              "      <td>96462108.0</td>\n",
              "      <td>Asia</td>\n",
              "      <td>NaN</td>\n",
              "    </tr>\n",
              "    <tr>\n",
              "      <th>49397</th>\n",
              "      <td>02/01/2020</td>\n",
              "      <td>2</td>\n",
              "      <td>1</td>\n",
              "      <td>2020</td>\n",
              "      <td>0</td>\n",
              "      <td>0</td>\n",
              "      <td>Vietnam</td>\n",
              "      <td>VN</td>\n",
              "      <td>VNM</td>\n",
              "      <td>96462108.0</td>\n",
              "      <td>Asia</td>\n",
              "      <td>NaN</td>\n",
              "    </tr>\n",
              "    <tr>\n",
              "      <th>49398</th>\n",
              "      <td>01/01/2020</td>\n",
              "      <td>1</td>\n",
              "      <td>1</td>\n",
              "      <td>2020</td>\n",
              "      <td>0</td>\n",
              "      <td>0</td>\n",
              "      <td>Vietnam</td>\n",
              "      <td>VN</td>\n",
              "      <td>VNM</td>\n",
              "      <td>96462108.0</td>\n",
              "      <td>Asia</td>\n",
              "      <td>NaN</td>\n",
              "    </tr>\n",
              "    <tr>\n",
              "      <th>49399</th>\n",
              "      <td>31/12/2019</td>\n",
              "      <td>31</td>\n",
              "      <td>12</td>\n",
              "      <td>2019</td>\n",
              "      <td>0</td>\n",
              "      <td>0</td>\n",
              "      <td>Vietnam</td>\n",
              "      <td>VN</td>\n",
              "      <td>VNM</td>\n",
              "      <td>96462108.0</td>\n",
              "      <td>Asia</td>\n",
              "      <td>NaN</td>\n",
              "    </tr>\n",
              "  </tbody>\n",
              "</table>\n",
              "<p>291 rows × 12 columns</p>\n",
              "</div>"
            ],
            "text/plain": [
              "          dateRep  ...  Cumulative_number_for_14_days_of_COVID-19_cases_per_100000\n",
              "49109  20/10/2020  ...                                           0.044577         \n",
              "49110  19/10/2020  ...                                           0.039394         \n",
              "49111  18/10/2020  ...                                           0.031100         \n",
              "49112  17/10/2020  ...                                           0.029027         \n",
              "49113  16/10/2020  ...                                           0.030064         \n",
              "...           ...  ...                                                ...         \n",
              "49395  04/01/2020  ...                                                NaN         \n",
              "49396  03/01/2020  ...                                                NaN         \n",
              "49397  02/01/2020  ...                                                NaN         \n",
              "49398  01/01/2020  ...                                                NaN         \n",
              "49399  31/12/2019  ...                                                NaN         \n",
              "\n",
              "[291 rows x 12 columns]"
            ]
          },
          "metadata": {},
          "execution_count": 38
        }
      ]
    },
    {
      "cell_type": "markdown",
      "source": [
        "### i)"
      ],
      "metadata": {
        "id": "7had3PKeB5Er"
      }
    },
    {
      "cell_type": "code",
      "source": [
        "print('Cases in Vietnam: ', vietnam_data['cases'].sum())\n",
        "print('Deaths in Vietnam: ', vietnam_data['deaths'].sum())"
      ],
      "metadata": {
        "colab": {
          "base_uri": "https://localhost:8080/"
        },
        "id": "MWIHfDcTCIPt",
        "outputId": "61300451-2d50-4aaa-9fe5-974799c4f1f9"
      },
      "execution_count": null,
      "outputs": [
        {
          "output_type": "stream",
          "name": "stdout",
          "text": [
            "Cases in Vietnam:  1140\n",
            "Deaths in Vietnam:  35\n"
          ]
        }
      ]
    },
    {
      "cell_type": "markdown",
      "source": [
        "### j)"
      ],
      "metadata": {
        "id": "EPJAkU_mCXAs"
      }
    },
    {
      "cell_type": "code",
      "source": [
        "sns.lineplot(data=vietnam_data, x=vietnam_data.index, y='cases');"
      ],
      "metadata": {
        "colab": {
          "base_uri": "https://localhost:8080/",
          "height": 265
        },
        "id": "xzjYAHtks1F5",
        "outputId": "d32a6a05-26b1-4dcf-9350-dac7b0be297e"
      },
      "execution_count": null,
      "outputs": [
        {
          "output_type": "display_data",
          "data": {
            "image/png": "[encoded data removed]",
            "text/plain": [
              "<Figure size 432x288 with 1 Axes>"
            ]
          },
          "metadata": {
            "needs_background": "light"
          }
        }
      ]
    },
    {
      "cell_type": "code",
      "source": [
        "sns.lineplot(data=vietnam_data, x=vietnam_data.index, y='deaths');"
      ],
      "metadata": {
        "colab": {
          "base_uri": "https://localhost:8080/",
          "height": 265
        },
        "id": "xLjKq9zov-k0",
        "outputId": "6e9b564a-dd56-46d7-d589-a2c642a8658a"
      },
      "execution_count": null,
      "outputs": [
        {
          "output_type": "display_data",
          "data": {
            "image/png": "[encoded data removed]",
            "text/plain": [
              "<Figure size 432x288 with 1 Axes>"
            ]
          },
          "metadata": {
            "needs_background": "light"
          }
        }
      ]
    }
  ],
  "metadata": {
    "colab": {
      "collapsed_sections": [],
      "name": "19110035_DV_TH01",
      "provenance": [],
      "include_colab_link": true
    },
    "kernelspec": {
      "display_name": "Python 3",
      "name": "python3"
    }
  },
  "nbformat": 4,
  "nbformat_minor": 0
}